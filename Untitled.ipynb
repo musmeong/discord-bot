{
 "cells": [
  {
   "cell_type": "code",
   "execution_count": 1,
   "metadata": {},
   "outputs": [],
   "source": [
    "import pandas as pd\n",
    "data = pd.read_csv('file.csv')"
   ]
  },
  {
   "cell_type": "code",
   "execution_count": 3,
   "metadata": {},
   "outputs": [
    {
     "data": {
      "text/plain": [
       "Index(['id', 'conversation_id', 'created_at', 'date', 'time', 'timezone',\n",
       "       'user_id', 'username', 'name', 'place', 'tweet', 'mentions', 'urls',\n",
       "       'photos', 'replies_count', 'retweets_count', 'likes_count', 'location',\n",
       "       'hashtags', 'cashtags', 'link', 'retweet', 'quote_url', 'video',\n",
       "       'profile_image_url'],\n",
       "      dtype='object')"
      ]
     },
     "execution_count": 3,
     "metadata": {},
     "output_type": "execute_result"
    }
   ],
   "source": [
    "data.columns"
   ]
  },
  {
   "cell_type": "code",
   "execution_count": 5,
   "metadata": {},
   "outputs": [
    {
     "data": {
      "text/plain": [
       "4967"
      ]
     },
     "execution_count": 5,
     "metadata": {},
     "output_type": "execute_result"
    }
   ],
   "source": [
    "len(data)"
   ]
  },
  {
   "cell_type": "code",
   "execution_count": 11,
   "metadata": {},
   "outputs": [
    {
     "data": {
      "text/plain": [
       "0       https://twitter.com/kaesangp/status/1134016546...\n",
       "1       https://twitter.com/kaesangp/status/1134015834...\n",
       "2       https://twitter.com/kaesangp/status/1134014972...\n",
       "3       https://twitter.com/kaesangp/status/1134011172...\n",
       "4       https://twitter.com/kaesangp/status/1133995320...\n",
       "5       https://twitter.com/kaesangp/status/1133990091...\n",
       "6       https://twitter.com/kaesangp/status/1133981299...\n",
       "7       https://twitter.com/kaesangp/status/1133980628...\n",
       "8       https://twitter.com/kaesangp/status/1133796747...\n",
       "9       https://twitter.com/kaesangp/status/1133770303...\n",
       "10      https://twitter.com/kaesangp/status/1133768800...\n",
       "11      https://twitter.com/kaesangp/status/1133768528...\n",
       "12      https://twitter.com/kaesangp/status/1133768295...\n",
       "13      https://twitter.com/kaesangp/status/1133767805...\n",
       "14      https://twitter.com/kaesangp/status/1133766185...\n",
       "15      https://twitter.com/kaesangp/status/1133763621...\n",
       "16      https://twitter.com/kaesangp/status/1133763288...\n",
       "17      https://twitter.com/kaesangp/status/1133762815...\n",
       "18      https://twitter.com/kaesangp/status/1133762813...\n",
       "19      https://twitter.com/kaesangp/status/1133762810...\n",
       "20      https://twitter.com/kaesangp/status/1133761019...\n",
       "21      https://twitter.com/kaesangp/status/1133761017...\n",
       "22      https://twitter.com/kaesangp/status/1133761014...\n",
       "23      https://twitter.com/kaesangp/status/1133761011...\n",
       "24      https://twitter.com/kaesangp/status/1133759556...\n",
       "25      https://twitter.com/kaesangp/status/1133758849...\n",
       "26      https://twitter.com/kaesangp/status/1133758516...\n",
       "27      https://twitter.com/kaesangp/status/1133757111...\n",
       "28      https://twitter.com/kaesangp/status/1133743045...\n",
       "29      https://twitter.com/kaesangp/status/1133719705...\n",
       "                              ...                        \n",
       "4937      https://twitter.com/kaesangp/status/17420720660\n",
       "4938      https://twitter.com/kaesangp/status/17095409514\n",
       "4939      https://twitter.com/kaesangp/status/17095144211\n",
       "4940      https://twitter.com/kaesangp/status/17095121968\n",
       "4941      https://twitter.com/kaesangp/status/17092869468\n",
       "4942      https://twitter.com/kaesangp/status/17079591915\n",
       "4943      https://twitter.com/kaesangp/status/17077036353\n",
       "4944      https://twitter.com/kaesangp/status/17025788208\n",
       "4945      https://twitter.com/kaesangp/status/17023605834\n",
       "4946      https://twitter.com/kaesangp/status/17023365746\n",
       "4947      https://twitter.com/kaesangp/status/17023084022\n",
       "4948      https://twitter.com/kaesangp/status/17023025008\n",
       "4949      https://twitter.com/kaesangp/status/17022870105\n",
       "4950      https://twitter.com/kaesangp/status/17022787990\n",
       "4951      https://twitter.com/kaesangp/status/17022519445\n",
       "4952      https://twitter.com/kaesangp/status/17022286053\n",
       "4953      https://twitter.com/kaesangp/status/17022023799\n",
       "4954      https://twitter.com/kaesangp/status/17021945298\n",
       "4955      https://twitter.com/kaesangp/status/17021783726\n",
       "4956      https://twitter.com/kaesangp/status/17021647510\n",
       "4957      https://twitter.com/kaesangp/status/17009995801\n",
       "4958      https://twitter.com/kaesangp/status/17009864504\n",
       "4959      https://twitter.com/kaesangp/status/17009672580\n",
       "4960      https://twitter.com/kaesangp/status/17009383388\n",
       "4961      https://twitter.com/kaesangp/status/15699372617\n",
       "4962      https://twitter.com/kaesangp/status/15340488510\n",
       "4963      https://twitter.com/kaesangp/status/14973198087\n",
       "4964      https://twitter.com/kaesangp/status/12820486232\n",
       "4965      https://twitter.com/kaesangp/status/12621735565\n",
       "4966      https://twitter.com/kaesangp/status/11933312138\n",
       "Name: link, Length: 4967, dtype: object"
      ]
     },
     "execution_count": 11,
     "metadata": {},
     "output_type": "execute_result"
    }
   ],
   "source": [
    "data.link"
   ]
  }
 ],
 "metadata": {
  "kernelspec": {
   "display_name": "Python 3",
   "language": "python",
   "name": "python3"
  },
  "language_info": {
   "codemirror_mode": {
    "name": "ipython",
    "version": 3
   },
   "file_extension": ".py",
   "mimetype": "text/x-python",
   "name": "python",
   "nbconvert_exporter": "python",
   "pygments_lexer": "ipython3",
   "version": "3.7.3"
  }
 },
 "nbformat": 4,
 "nbformat_minor": 2
}
